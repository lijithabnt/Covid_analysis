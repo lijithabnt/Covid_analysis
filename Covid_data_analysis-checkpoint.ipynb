{
 "cells": [
  {
   "cell_type": "code",
   "execution_count": 141,
   "metadata": {},
   "outputs": [
    {
     "ename": "SyntaxError",
     "evalue": "invalid syntax (<ipython-input-141-7aab60f49b0a>, line 30)",
     "output_type": "error",
     "traceback": [
      "\u001b[1;36m  File \u001b[1;32m\"<ipython-input-141-7aab60f49b0a>\"\u001b[1;36m, line \u001b[1;32m30\u001b[0m\n\u001b[1;33m    d = DeathFirstCaseDate[[\"date\",\"GeoId\",\"Deaths\"],index=False]\u001b[0m\n\u001b[1;37m                                                          ^\u001b[0m\n\u001b[1;31mSyntaxError\u001b[0m\u001b[1;31m:\u001b[0m invalid syntax\n"
     ]
    }
   ],
   "source": [
    "import pandas as pd\n",
    "import os\n",
    "\n",
    "covid_data = pd.read_excel(r\"C:\\Users\\lijitha\\datasets\\COVID-19-geographic-disbtribution-worldwide-2020-03-20.xlsx\")\n",
    "covid_data.columns\n",
    "#Index(['DateRep', 'Day', 'Month', 'Year', 'Cases', 'Deaths','Countries and territories', 'GeoId'],\n",
    "\n",
    "#Countries effected\n",
    "covid_countries = covid_data[\"GeoId\"].nunique()\n",
    "print(\"Countries effected:\"+ str(covid_countries))\n",
    "\n",
    "#Highestdeathscountrywise\n",
    "Highestdeathscountrywise=covid_data[[\"GeoId\",\"Year\",\"Deaths\"]].groupby([\"GeoId\"],as_index=False)['Deaths'].sum()\n",
    "print(\"Country with highest COVID Deaths:\\n\"+ str(Highestdeathscountrywise.sort_values(\"Deaths\",ascending=False).head(1)))\n",
    "\n",
    "#DeathscountryYearwise\n",
    "HighestdeathscountryYearwise=covid_data[[\"GeoId\",\"Year\",\"Deaths\"]].groupby([\"Year\",\"GeoId\"],as_index=False)[\"Deaths\"].sum()\n",
    "print(\"COVID Deaths year and country wise :\")\n",
    "#print(HighestdeathscountryYearwise)\n",
    "HighestdeathscountryYearwise=HighestdeathscountryYearwise[HighestdeathscountryYearwise.GeoId.str.strip()=='CN']\n",
    "print(HighestdeathscountryYearwise)\n",
    "\n",
    "#DeathsInIndia\n",
    "DeathsInIndia=covid_data[[\"GeoId\",\"Year\",\"Deaths\"]].groupby([\"Year\",\"GeoId\"],as_index=False)[\"Deaths\"].sum()\n",
    "DeathsInIndia=DeathsInIndia[DeathsInIndia.GeoId.str.strip()=='IN']\n",
    "print(\"Deaths in India\"+ str(DeathsInIndia))\n",
    "\n",
    "#DeathFirstCaseDate\n",
    "DeathFirstCaseDate=covid_data[covid_data.GeoId.str.strip()=='IN']\n",
    "d = DeathFirstCaseDate[[\"date\",\"GeoId\",\"Deaths\"],index=False]\n",
    "print(d)\n",
    "\n",
    "#YearlyDeathsCountryWise\n",
    "YearlyDeaths=covid_data.groupby(\"Year\",as_index=False)[\"Deaths\"].sum()\n",
    "print(\"Yearly deaths Countrywisedue to COVID:\\n\" + str(YearlyDeaths))\n",
    "\n",
    "#\n"
   ]
  },
  {
   "cell_type": "code",
   "execution_count": null,
   "metadata": {},
   "outputs": [],
   "source": []
  }
 ],
 "metadata": {
  "kernelspec": {
   "display_name": "Python 3",
   "language": "python",
   "name": "python3"
  },
  "language_info": {
   "codemirror_mode": {
    "name": "ipython",
    "version": 3
   },
   "file_extension": ".py",
   "mimetype": "text/x-python",
   "name": "python",
   "nbconvert_exporter": "python",
   "pygments_lexer": "ipython3",
   "version": "3.7.4"
  }
 },
 "nbformat": 4,
 "nbformat_minor": 2
}
